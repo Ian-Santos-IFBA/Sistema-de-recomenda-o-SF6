{
 "cells": [
  {
   "cell_type": "code",
   "execution_count": 277,
   "id": "62df4ed8",
   "metadata": {},
   "outputs": [],
   "source": [
    "import json\n",
    "from datasets import Dataset\n",
    "from pathlib import Path\n",
    "from transformers import AutoTokenizer\n",
    "from transformers import AutoModelForSequenceClassification\n",
    "from transformers import TrainingArguments, Trainer"
   ]
  },
  {
   "cell_type": "code",
   "execution_count": 278,
   "id": "6bb1b3a8",
   "metadata": {},
   "outputs": [],
   "source": [
    "path = Path(\"treino_ia.json\")\n",
    "with open(path, \"rb\") as arq:\n",
    "    leitura = arq.read()"
   ]
  },
  {
   "cell_type": "code",
   "execution_count": 279,
   "id": "21c5caa0",
   "metadata": {},
   "outputs": [],
   "source": [
    "json_de_treino = json.loads(leitura)\n",
    "dataset = Dataset.from_list(json_de_treino)"
   ]
  },
  {
   "cell_type": "code",
   "execution_count": 280,
   "id": "079f3ddc",
   "metadata": {},
   "outputs": [
    {
     "name": "stderr",
     "output_type": "stream",
     "text": [
      "Map: 100%|██████████| 122/122 [00:00<00:00, 4356.31 examples/s]\n"
     ]
    }
   ],
   "source": [
    "tokenizer = AutoTokenizer.from_pretrained(\"neuralmind/bert-base-portuguese-cased\")\n",
    "def tokenize(example):\n",
    "    return tokenizer(example[\"input\"], truncation=True, padding=\"max_length\", max_length=128)\n",
    "tokenized_dataset = dataset.map(tokenize)"
   ]
  },
  {
   "cell_type": "code",
   "execution_count": null,
   "id": "4184a513",
   "metadata": {},
   "outputs": [],
   "source": [
    "label2id = {label: idx for idx, label in enumerate(set(dataset[\"label\"]))}\n",
    "id2label = {v: k for k, v in label2id.items()}"
   ]
  },
  {
   "cell_type": "code",
   "execution_count": 282,
   "id": "5a213df4",
   "metadata": {},
   "outputs": [
    {
     "name": "stderr",
     "output_type": "stream",
     "text": [
      "Map: 100%|██████████| 122/122 [00:00<00:00, 15246.11 examples/s]\n"
     ]
    }
   ],
   "source": [
    "def encode_label(example):\n",
    "    example[\"label\"] = label2id[example[\"label\"]]\n",
    "    return example\n",
    "\n",
    "tokenized_dataset = tokenized_dataset.map(encode_label)"
   ]
  },
  {
   "cell_type": "code",
   "execution_count": 283,
   "id": "08f4a2ea",
   "metadata": {},
   "outputs": [
    {
     "name": "stderr",
     "output_type": "stream",
     "text": [
      "Some weights of BertForSequenceClassification were not initialized from the model checkpoint at neuralmind/bert-base-portuguese-cased and are newly initialized: ['classifier.bias', 'classifier.weight']\n",
      "You should probably TRAIN this model on a down-stream task to be able to use it for predictions and inference.\n"
     ]
    }
   ],
   "source": [
    "model = AutoModelForSequenceClassification.from_pretrained(\n",
    "    \"neuralmind/bert-base-portuguese-cased\",\n",
    "    num_labels=len(label2id),\n",
    "    id2label=id2label,\n",
    "    label2id=label2id\n",
    ")"
   ]
  },
  {
   "cell_type": "code",
   "execution_count": 284,
   "id": "8e54bd2e",
   "metadata": {},
   "outputs": [],
   "source": [
    "training_args = TrainingArguments(\n",
    "    output_dir=\"./resultados\",\n",
    "    per_device_train_batch_size=8,\n",
    "    per_device_eval_batch_size=8,\n",
    "    num_train_epochs=5,\n",
    "    weight_decay=0.01,\n",
    "    logging_dir=\"./logs\",\n",
    ")"
   ]
  },
  {
   "cell_type": "code",
   "execution_count": 285,
   "id": "0bb0690d",
   "metadata": {},
   "outputs": [],
   "source": [
    "trainer = Trainer(\n",
    "    model=model,\n",
    "    args=training_args,\n",
    "    train_dataset=tokenized_dataset,\n",
    "    eval_dataset=tokenized_dataset,  # se quiser, pode separar\n",
    ")"
   ]
  },
  {
   "cell_type": "code",
   "execution_count": 286,
   "id": "b08f4667",
   "metadata": {},
   "outputs": [
    {
     "data": {
      "text/html": [
       "\n",
       "    <div>\n",
       "      \n",
       "      <progress value='80' max='80' style='width:300px; height:20px; vertical-align: middle;'></progress>\n",
       "      [80/80 02:15, Epoch 5/5]\n",
       "    </div>\n",
       "    <table border=\"1\" class=\"dataframe\">\n",
       "  <thead>\n",
       " <tr style=\"text-align: left;\">\n",
       "      <th>Step</th>\n",
       "      <th>Training Loss</th>\n",
       "    </tr>\n",
       "  </thead>\n",
       "  <tbody>\n",
       "  </tbody>\n",
       "</table><p>"
      ],
      "text/plain": [
       "<IPython.core.display.HTML object>"
      ]
     },
     "metadata": {},
     "output_type": "display_data"
    },
    {
     "data": {
      "text/plain": [
       "TrainOutput(global_step=80, training_loss=3.0747629165649415, metrics={'train_runtime': 137.712, 'train_samples_per_second': 4.43, 'train_steps_per_second': 0.581, 'total_flos': 40132721948160.0, 'train_loss': 3.0747629165649415, 'epoch': 5.0})"
      ]
     },
     "execution_count": 286,
     "metadata": {},
     "output_type": "execute_result"
    }
   ],
   "source": [
    "trainer.train()"
   ]
  },
  {
   "cell_type": "code",
   "execution_count": 492,
   "id": "947afa4b",
   "metadata": {},
   "outputs": [
    {
     "name": "stdout",
     "output_type": "stream",
     "text": [
      "Recomendação: Juri\n"
     ]
    }
   ],
   "source": [
    "entrada = \"Quero um personagem difícil\"\n",
    "tokens = tokenizer(entrada, return_tensors=\"pt\", truncation=True, padding=\"max_length\", max_length=128)\n",
    "output = model(**tokens)\n",
    "pred_id = output.logits.argmax(dim=1).item()\n",
    "print(f\"Recomendação: {id2label[pred_id]}\")"
   ]
  }
 ],
 "metadata": {
  "kernelspec": {
   "display_name": "venv",
   "language": "python",
   "name": "python3"
  },
  "language_info": {
   "codemirror_mode": {
    "name": "ipython",
    "version": 3
   },
   "file_extension": ".py",
   "mimetype": "text/x-python",
   "name": "python",
   "nbconvert_exporter": "python",
   "pygments_lexer": "ipython3",
   "version": "3.11.5"
  }
 },
 "nbformat": 4,
 "nbformat_minor": 5
}
